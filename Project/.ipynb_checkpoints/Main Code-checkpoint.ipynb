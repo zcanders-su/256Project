{
 "cells": [
  {
   "cell_type": "code",
   "execution_count": null,
   "metadata": {},
   "outputs": [],
   "source": [
    "import pandas as pd\n",
    "import requests\n",
    "import json\n",
    "import webbrowser\n",
    "\n",
    "'''\n",
    "Main Program\n",
    "- take input for movie title\n",
    "- input.strip().title()\n",
    "- use functions to get dictionary of info on movie\n",
    "- convert dictionary to dataframe\n",
    "- display dataframe of movie information\n",
    "- take input for if they want to see the trailer\n",
    "    - if yes - open new tab with trailer\n",
    "\n",
    "FUNCTIONS\n",
    "\n",
    "build parameters\n",
    "- use input as parameters (remove spaces function)\n",
    "- follow guidelines in practive code\n",
    "- return parameters\n",
    "\n",
    "build url\n",
    "- takes parameters (from build parameter function)\n",
    "- concatenates parameters with basic url and key\n",
    "- returns the url\n",
    "\n",
    "\n",
    "return dataframe\n",
    "- takes url (build url function)\n",
    "- requests.get(url)\n",
    "- convert response from json to list of dictionaries\n",
    "- returns that dictionary\n",
    "\n",
    "\n",
    "trailer\n",
    "- take movie_df['title'] \n",
    "- use remove spaces function to edit title (parameter of function)\n",
    "- build youtube trailer url\n",
    "- use webbrowser.open(url)\n",
    "\n",
    "remove spaces\n",
    "- takes a string as parameter\n",
    "while (string.find(\" \") > -1):\n",
    "    string.replace(\" \", \"+\")\n",
    "\n",
    "\n",
    "'''"
   ]
  },
  {
   "cell_type": "code",
   "execution_count": 15,
   "metadata": {},
   "outputs": [
    {
     "data": {
      "text/plain": [
       "'Star+Wars+Episode+IV'"
      ]
     },
     "execution_count": 15,
     "metadata": {},
     "output_type": "execute_result"
    }
   ],
   "source": [
    "def remove_spaces(string):\n",
    "    string.strip().title()\n",
    "    while (string.find(\" \") > -1):\n",
    "        string = string.replace(\" \", \"+\")\n",
    "    \n",
    "    \n",
    "return string\n"
   ]
  },
  {
   "cell_type": "code",
   "execution_count": null,
   "metadata": {},
   "outputs": [],
   "source": []
  },
  {
   "cell_type": "code",
   "execution_count": null,
   "metadata": {},
   "outputs": [],
   "source": []
  }
 ],
 "metadata": {
  "kernelspec": {
   "display_name": "Python 3",
   "language": "python",
   "name": "python3"
  },
  "language_info": {
   "codemirror_mode": {
    "name": "ipython",
    "version": 3
   },
   "file_extension": ".py",
   "mimetype": "text/x-python",
   "name": "python",
   "nbconvert_exporter": "python",
   "pygments_lexer": "ipython3",
   "version": "3.6.6"
  }
 },
 "nbformat": 4,
 "nbformat_minor": 2
}

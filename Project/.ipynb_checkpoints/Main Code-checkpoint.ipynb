{
 "cells": [
  {
   "cell_type": "code",
   "execution_count": 1,
   "metadata": {},
   "outputs": [
    {
     "data": {
      "text/plain": [
       "'\\nMain Program\\n- take input for movie title\\n- input.strip().title()\\n- use functions to get dictionary of info on movie\\n- convert dictionary to dataframe\\n- display dataframe of movie information\\n- take input for if they want to see the trailer\\n    - if yes - open new tab with trailer\\n\\nFUNCTIONS\\n\\nbuild parameters\\n- use input as parameters (remove spaces function)\\n- follow guidelines in practive code\\n- return parameters\\n\\nbuild url\\n- takes parameters (from build parameter function)\\n- concatenates parameters with basic url and key\\n- returns the url\\n\\n\\nreturn dataframe\\n- takes url (build url function)\\n- requests.get(url)\\n- convert response from json to list of dictionaries\\n- returns that dictionary\\n\\n\\ntrailer\\n- take movie_df[\\'title\\'] \\n- use remove spaces function to edit title (parameter of function)\\n- build youtube trailer url\\n- use webbrowser.open(url)\\n\\nremove spaces\\n- takes a string as parameter\\nwhile (string.find(\" \") > -1):\\n    string.replace(\" \", \"+\")\\n\\n\\n'"
      ]
     },
     "execution_count": 1,
     "metadata": {},
     "output_type": "execute_result"
    }
   ],
   "source": [
    "import pandas as pd\n",
    "import requests\n",
    "import json\n",
    "import webbrowser\n",
    "\n",
    "'''\n",
    "Main Program\n",
    "- take input for movie title\n",
    "- input.strip().title()\n",
    "- use functions to get dictionary of info on movie\n",
    "- convert dictionary to dataframe\n",
    "- display dataframe of movie information\n",
    "- take input for if they want to see the trailer\n",
    "    - if yes - open new tab with trailer\n",
    "\n",
    "FUNCTIONS\n",
    "\n",
    "build parameters\n",
    "- use input as parameters (remove spaces function)\n",
    "- follow guidelines in practive code\n",
    "- return parameters\n",
    "\n",
    "build url\n",
    "- takes parameters (from build parameter function)\n",
    "- concatenates parameters with basic url and key\n",
    "- returns the url\n",
    "\n",
    "\n",
    "return dataframe\n",
    "- takes url (build url function)\n",
    "- requests.get(url)\n",
    "- convert response from json to list of dictionaries\n",
    "- returns that dictionary\n",
    "\n",
    "\n",
    "trailer\n",
    "- take movie_df['title'] \n",
    "- use remove spaces function to edit title (parameter of function)\n",
    "- build youtube trailer url\n",
    "- use webbrowser.open(url)\n",
    "\n",
    "remove spaces\n",
    "- takes a string as parameter\n",
    "while (string.find(\" \") > -1):\n",
    "    string.replace(\" \", \"+\")\n",
    "\n",
    "\n",
    "'''"
   ]
  },
  {
   "cell_type": "code",
   "execution_count": 15,
   "metadata": {},
   "outputs": [
    {
     "name": "stdout",
     "output_type": "stream",
     "text": [
      "Welcome to MovieGeek, your one-stop-shop for film info!\n",
      "Would you like to search a movie? (Type \"Yes\" or \"No\") no\n"
     ]
    }
   ],
   "source": [
    "# MAIN CODE!!!\n",
    "message = \"Welcome to MovieGeek, your one-stop-shop for film info!\" # we should look up how to style this text\n",
    "\n",
    "while True:\n",
    "    answer = input(message + '\\nWould you like to search a movie? (Type \"Yes\" or \"No\") ').strip().title()\n",
    "    if(answer == 'No'): # end program\n",
    "        break\n",
    "        \n",
    "    elif(answer == 'Yes'): \n",
    "        message = \"\" # removes initial messge, makes it so user doesn't see unnecessary intro message\n",
    "        title = input(\"What movie would you like to learn about? \").strip().title()\n",
    "        # use build parameters, and build url, display DataFrame of info\n",
    "        \n",
    "        title_edit = remove_spaces(title) # makes title fit for url \n",
    "        \n",
    "        # used in buildParameters() for more accurate search\n",
    "        year = input(\"Do you know what year this movie was made? (yyyy or 'no'): \").strip()\n",
    "        \n",
    "        # make parameters for url\n",
    "        parameters = buildParameters(title_edit, year = year)\n",
    "        \n",
    "        # build url\n",
    "        url = buildURL(parameters)\n",
    "        \n",
    "        # make dataFrame\n",
    "        movie_df = makeDF(url)\n",
    "        \n",
    "        \n",
    "        # direct user to trailer\n",
    "        text = input('Interested in %s? Want to watch the trailer? (Type \"Yes\" or \"No\") ' %(title)).strip().title()\n",
    "        \n",
    "        \n",
    "        if(text == \"Yes\"):\n",
    "            print(\"Linking you to the %s movie trailer....\" %(title))\n",
    "            # run trailer function -- trailer(movie_df['Title'], date = movie_df['Year'][0])\n",
    "            trailer(title_edit)\n",
    "\n",
    "    else:\n",
    "        print(\"I'm sorry, we did not understand your question. Try again.\")\n",
    "\n"
   ]
  },
  {
   "cell_type": "code",
   "execution_count": 14,
   "metadata": {},
   "outputs": [],
   "source": [
    "#Opens web page for trailer\n",
    "def trailer(title, year = ''):\n",
    "    # run the removeSpaces function to make title\n",
    "    \n",
    "    # create url to trailer search results\n",
    "    url = 'https://www.youtube.com/results?search_query=' + title + '+trailer'\n",
    "    \n",
    "    # opens url in a new tab\n",
    "    webbrowser.open_new_tab(url)\n"
   ]
  },
  {
   "cell_type": "code",
   "execution_count": 10,
   "metadata": {},
   "outputs": [],
   "source": [
    "#Build Parameters \n",
    "def buildParameters(title, year = ''):\n",
    "    t = \"t=\" + title\n",
    "    if(len(year) > 3):\n",
    "        y = \"y=\" + year\n",
    "        parameters = t + \"&\" + y\n",
    "        return parameters\n",
    "    return t"
   ]
  },
  {
   "cell_type": "code",
   "execution_count": 11,
   "metadata": {},
   "outputs": [],
   "source": [
    "#Build Url \n",
    "def buildURL(parameters):\n",
    "    basic_url = 'http://www.omdbapi.com/?'\n",
    "    key = 'apikey=ee06fce6'\n",
    "    url = basic_url + parameters + '&' + key\n",
    "    return url\n"
   ]
  },
  {
   "cell_type": "code",
   "execution_count": 12,
   "metadata": {},
   "outputs": [],
   "source": [
    "# Remove Spaces \n",
    "def remove_spaces(string):\n",
    "    string.strip().title()\n",
    "    while (string.find(\" \") > -1):\n",
    "        string = string.replace(\" \", \"+\")\n",
    "    \n",
    "    \n",
    "    return string\n"
   ]
  },
  {
   "cell_type": "code",
   "execution_count": 13,
   "metadata": {},
   "outputs": [],
   "source": [
    "# make DataFrame\n",
    "def makeDF(url):\n",
    "    response = requests.get(url)\n",
    "    movie = response.json()\n",
    "    movie_df = pd.DataFrame(movie)\n",
    "    return movie_df"
   ]
  },
  {
   "cell_type": "code",
   "execution_count": null,
   "metadata": {},
   "outputs": [],
   "source": []
  }
 ],
 "metadata": {
  "kernelspec": {
   "display_name": "Python 3",
   "language": "python",
   "name": "python3"
  },
  "language_info": {
   "codemirror_mode": {
    "name": "ipython",
    "version": 3
   },
   "file_extension": ".py",
   "mimetype": "text/x-python",
   "name": "python",
   "nbconvert_exporter": "python",
   "pygments_lexer": "ipython3",
   "version": "3.6.6"
  }
 },
 "nbformat": 4,
 "nbformat_minor": 2
}
